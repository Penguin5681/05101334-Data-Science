{
 "cells": [
  {
   "cell_type": "markdown",
   "metadata": {},
   "source": [
    "## Assignment given on: 31-July\n",
    "### Perform single column training testing and predict something for 4 different datasets"
   ]
  },
  {
   "cell_type": "code",
   "execution_count": 13,
   "metadata": {},
   "outputs": [],
   "source": [
    "import pandas as pd\n",
    "from sklearn.linear_model import LinearRegression\n",
    "from sklearn.model_selection import train_test_split"
   ]
  },
  {
   "cell_type": "markdown",
   "metadata": {},
   "source": [
    "## Dataset 1: Covid 19 Dataset"
   ]
  },
  {
   "cell_type": "code",
   "execution_count": 14,
   "metadata": {},
   "outputs": [
    {
     "name": "stdout",
     "output_type": "stream",
     "text": [
      "Index(['Country/Region', 'Confirmed', 'Deaths', 'Recovered', 'Active',\n",
      "       'New cases', 'New deaths', 'New recovered', 'Deaths / 100 Cases',\n",
      "       'Recovered / 100 Cases', 'Deaths / 100 Recovered',\n",
      "       'Confirmed last week', '1 week change', '1 week % increase',\n",
      "       'WHO Region'],\n",
      "      dtype='object')\n",
      "         Country/Region  Confirmed  Deaths  Recovered  Active  New cases  \\\n",
      "0           Afghanistan      36263    1269      25198    9796        106   \n",
      "1               Albania       4880     144       2745    1991        117   \n",
      "2               Algeria      27973    1163      18837    7973        616   \n",
      "3               Andorra        907      52        803      52         10   \n",
      "4                Angola        950      41        242     667         18   \n",
      "..                  ...        ...     ...        ...     ...        ...   \n",
      "182  West Bank and Gaza      10621      78       3752    6791        152   \n",
      "183      Western Sahara         10       1          8       1          0   \n",
      "184               Yemen       1691     483        833     375         10   \n",
      "185              Zambia       4552     140       2815    1597         71   \n",
      "186            Zimbabwe       2704      36        542    2126        192   \n",
      "\n",
      "     New deaths  New recovered  Deaths / 100 Cases  Recovered / 100 Cases  \\\n",
      "0            10             18                3.50                  69.49   \n",
      "1             6             63                2.95                  56.25   \n",
      "2             8            749                4.16                  67.34   \n",
      "3             0              0                5.73                  88.53   \n",
      "4             1              0                4.32                  25.47   \n",
      "..          ...            ...                 ...                    ...   \n",
      "182           2              0                0.73                  35.33   \n",
      "183           0              0               10.00                  80.00   \n",
      "184           4             36               28.56                  49.26   \n",
      "185           1            465                3.08                  61.84   \n",
      "186           2             24                1.33                  20.04   \n",
      "\n",
      "     Deaths / 100 Recovered  Confirmed last week  1 week change  \\\n",
      "0                      5.04                35526            737   \n",
      "1                      5.25                 4171            709   \n",
      "2                      6.17                23691           4282   \n",
      "3                      6.48                  884             23   \n",
      "4                     16.94                  749            201   \n",
      "..                      ...                  ...            ...   \n",
      "182                    2.08                 8916           1705   \n",
      "183                   12.50                   10              0   \n",
      "184                   57.98                 1619             72   \n",
      "185                    4.97                 3326           1226   \n",
      "186                    6.64                 1713            991   \n",
      "\n",
      "     1 week % increase             WHO Region  \n",
      "0                 2.07  Eastern Mediterranean  \n",
      "1                17.00                 Europe  \n",
      "2                18.07                 Africa  \n",
      "3                 2.60                 Europe  \n",
      "4                26.84                 Africa  \n",
      "..                 ...                    ...  \n",
      "182              19.12  Eastern Mediterranean  \n",
      "183               0.00                 Africa  \n",
      "184               4.45  Eastern Mediterranean  \n",
      "185              36.86                 Africa  \n",
      "186              57.85                 Africa  \n",
      "\n",
      "[187 rows x 15 columns]\n"
     ]
    },
    {
     "name": "stderr",
     "output_type": "stream",
     "text": [
      "c:\\Users\\prana\\AppData\\Local\\Programs\\Python\\Python312\\Lib\\site-packages\\sklearn\\base.py:493: UserWarning: X does not have valid feature names, but LinearRegression was fitted with feature names\n",
      "  warnings.warn(\n"
     ]
    },
    {
     "data": {
      "text/plain": [
       "array([[2.8389132]])"
      ]
     },
     "execution_count": 14,
     "metadata": {},
     "output_type": "execute_result"
    }
   ],
   "source": [
    "dataFrame1 = pd.read_csv(r'T:\\Gist\\05101334-Data-Science\\Datasets\\covid19_dataset.csv')\n",
    "\n",
    "print(dataFrame1.columns)\n",
    "print(dataFrame1)\n",
    "\n",
    "X = dataFrame1[['Deaths']]\n",
    "Y = dataFrame1[['Deaths / 100 Cases']]\n",
    "\n",
    "x_train, x_test, y_train, y_test = train_test_split(X, Y, test_size=0.2, train_size=0.8, random_state=21640)\n",
    "\n",
    "model = LinearRegression()\n",
    "\n",
    "model.fit(x_train, y_train)\n",
    "\n",
    "model.predict([[1269]])"
   ]
  },
  {
   "cell_type": "markdown",
   "metadata": {},
   "source": [
    "## Dataset 2: House Price dataset"
   ]
  },
  {
   "cell_type": "code",
   "execution_count": 15,
   "metadata": {},
   "outputs": [
    {
     "name": "stdout",
     "output_type": "stream",
     "text": [
      "Index(['longitude', 'latitude', 'housing_median_age', 'total_rooms',\n",
      "       'total_bedrooms', 'population', 'households', 'median_income',\n",
      "       'ocean_proximity', 'median_house_value'],\n",
      "      dtype='object')\n",
      "       longitude  latitude  housing_median_age  total_rooms  total_bedrooms  \\\n",
      "0        -122.23     37.88                  41          880           129.0   \n",
      "1        -122.22     37.86                  21         7099          1106.0   \n",
      "2        -122.24     37.85                  52         1467           190.0   \n",
      "3        -122.25     37.85                  52         1274           235.0   \n",
      "4        -122.25     37.85                  52         1627           280.0   \n",
      "...          ...       ...                 ...          ...             ...   \n",
      "20635    -121.09     39.48                  25         1665           374.0   \n",
      "20636    -121.21     39.49                  18          697           150.0   \n",
      "20637    -121.22     39.43                  17         2254           485.0   \n",
      "20638    -121.32     39.43                  18         1860           409.0   \n",
      "20639    -121.24     39.37                  16         2785           616.0   \n",
      "\n",
      "       population  households  median_income ocean_proximity  \\\n",
      "0             322         126         8.3252        NEAR BAY   \n",
      "1            2401        1138         8.3014        NEAR BAY   \n",
      "2             496         177         7.2574        NEAR BAY   \n",
      "3             558         219         5.6431        NEAR BAY   \n",
      "4             565         259         3.8462        NEAR BAY   \n",
      "...           ...         ...            ...             ...   \n",
      "20635         845         330         1.5603          INLAND   \n",
      "20636         356         114         2.5568          INLAND   \n",
      "20637        1007         433         1.7000          INLAND   \n",
      "20638         741         349         1.8672          INLAND   \n",
      "20639        1387         530         2.3886          INLAND   \n",
      "\n",
      "       median_house_value  \n",
      "0                  452600  \n",
      "1                  358500  \n",
      "2                  352100  \n",
      "3                  341300  \n",
      "4                  342200  \n",
      "...                   ...  \n",
      "20635               78100  \n",
      "20636               77100  \n",
      "20637               92300  \n",
      "20638               84700  \n",
      "20639               89400  \n",
      "\n",
      "[20640 rows x 10 columns]\n"
     ]
    },
    {
     "name": "stderr",
     "output_type": "stream",
     "text": [
      "c:\\Users\\prana\\AppData\\Local\\Programs\\Python\\Python312\\Lib\\site-packages\\sklearn\\base.py:493: UserWarning: X does not have valid feature names, but LinearRegression was fitted with feature names\n",
      "  warnings.warn(\n"
     ]
    },
    {
     "data": {
      "text/plain": [
       "array([[165.04054899]])"
      ]
     },
     "execution_count": 15,
     "metadata": {},
     "output_type": "execute_result"
    }
   ],
   "source": [
    "dataFrame2 = pd.read_csv(r'T:\\Gist\\05101334-Data-Science\\Datasets\\house_price.csv')\n",
    "\n",
    "print(dataFrame2.columns)\n",
    "print(dataFrame2)\n",
    "\n",
    "X = dataFrame2[['population']]\n",
    "Y = dataFrame2[['households']]\n",
    "\n",
    "x_train, x_test, y_train, y_test = train_test_split(X, Y, test_size=0.2, train_size=0.8, random_state=21640)\n",
    "\n",
    "model = LinearRegression()\n",
    "\n",
    "model.fit(x_train, y_train)\n",
    "\n",
    "model.predict([[322]])"
   ]
  },
  {
   "cell_type": "markdown",
   "metadata": {},
   "source": [
    "## Dataset 3: Laptop Price dataset"
   ]
  },
  {
   "cell_type": "code",
   "execution_count": 16,
   "metadata": {},
   "outputs": [
    {
     "name": "stdout",
     "output_type": "stream",
     "text": [
      "Index(['Brand', 'Processor_Speed', 'RAM_Size', 'Storage_Capacity',\n",
      "       'Screen_Size', 'Weight', 'Price'],\n",
      "      dtype='object')\n",
      "      Brand  Processor_Speed  RAM_Size  Storage_Capacity  Screen_Size  \\\n",
      "0      Asus         3.830296        16               512    11.185147   \n",
      "1      Acer         2.912833         4              1000    11.311372   \n",
      "2    Lenovo         3.241627         4               256    11.853023   \n",
      "3      Acer         3.806248        16               512    12.280360   \n",
      "4      Acer         3.268097        32              1000    14.990877   \n",
      "..      ...              ...       ...               ...          ...   \n",
      "995      HP         3.343584         4              1000    12.587095   \n",
      "996    Dell         2.780555         8               256    12.679356   \n",
      "997    Dell         3.200569         4               512    12.666315   \n",
      "998    Asus         1.604182         8               256    11.215581   \n",
      "999  Lenovo         1.711980         4               256    16.561498   \n",
      "\n",
      "       Weight         Price  \n",
      "0    2.641094  17395.093065  \n",
      "1    3.260012  31607.605919  \n",
      "2    2.029061   9291.023542  \n",
      "3    4.573865  17436.728334  \n",
      "4    4.193472  32917.990718  \n",
      "..        ...           ...  \n",
      "995  3.162399  31593.668017  \n",
      "996  3.750265   9149.521832  \n",
      "997  3.392612  16552.404779  \n",
      "998  3.857613   9407.473459  \n",
      "999  3.440883   8807.696702  \n",
      "\n",
      "[1000 rows x 7 columns]\n"
     ]
    },
    {
     "name": "stderr",
     "output_type": "stream",
     "text": [
      "c:\\Users\\prana\\AppData\\Local\\Programs\\Python\\Python312\\Lib\\site-packages\\sklearn\\base.py:493: UserWarning: X does not have valid feature names, but LinearRegression was fitted with feature names\n",
      "  warnings.warn(\n"
     ]
    },
    {
     "data": {
      "text/plain": [
       "array([[578.06398018]])"
      ]
     },
     "execution_count": 16,
     "metadata": {},
     "output_type": "execute_result"
    }
   ],
   "source": [
    "dataFrame3 = pd.read_csv(r'T:\\Gist\\05101334-Data-Science\\Datasets\\Laptop_price.csv')\n",
    "\n",
    "print(dataFrame3.columns)\n",
    "print(dataFrame3)\n",
    "\n",
    "X = dataFrame3[['RAM_Size']]\n",
    "Y = dataFrame3[['Storage_Capacity']]\n",
    "\n",
    "x_train, x_test, y_train, y_test = train_test_split(X, Y, test_size=0.2, train_size=0.8, random_state=600)\n",
    "\n",
    "model = LinearRegression()\n",
    "\n",
    "model.fit(x_train, y_train)\n",
    "\n",
    "model.predict([[16]])"
   ]
  },
  {
   "cell_type": "markdown",
   "metadata": {},
   "source": [
    "## Dataset 4: Olympic Medals dataset"
   ]
  },
  {
   "cell_type": "code",
   "execution_count": 17,
   "metadata": {},
   "outputs": [
    {
     "name": "stdout",
     "output_type": "stream",
     "text": [
      "Index(['Rank', 'Team/NOC', 'Gold', 'Silver', 'Bronze', 'Total',\n",
      "       'Rank by Total'],\n",
      "      dtype='object')\n",
      "    Rank                    Team/NOC  Gold  Silver  Bronze  Total  \\\n",
      "0      1    United States of America    39      41      33    113   \n",
      "1      2  People's Republic of China    38      32      18     88   \n",
      "2      3                       Japan    27      14      17     58   \n",
      "3      4               Great Britain    22      21      22     65   \n",
      "4      5                         ROC    20      28      23     71   \n",
      "..   ...                         ...   ...     ...     ...    ...   \n",
      "88    86                       Ghana     0       0       1      1   \n",
      "89    86                     Grenada     0       0       1      1   \n",
      "90    86                      Kuwait     0       0       1      1   \n",
      "91    86         Republic of Moldova     0       0       1      1   \n",
      "92    86        Syrian Arab Republic     0       0       1      1   \n",
      "\n",
      "    Rank by Total  \n",
      "0               1  \n",
      "1               2  \n",
      "2               5  \n",
      "3               4  \n",
      "4               3  \n",
      "..            ...  \n",
      "88             77  \n",
      "89             77  \n",
      "90             77  \n",
      "91             77  \n",
      "92             77  \n",
      "\n",
      "[93 rows x 7 columns]\n"
     ]
    },
    {
     "name": "stderr",
     "output_type": "stream",
     "text": [
      "c:\\Users\\prana\\AppData\\Local\\Programs\\Python\\Python312\\Lib\\site-packages\\sklearn\\base.py:493: UserWarning: X does not have valid feature names, but LinearRegression was fitted with feature names\n",
      "  warnings.warn(\n"
     ]
    },
    {
     "data": {
      "text/plain": [
       "array([[34.46654705]])"
      ]
     },
     "execution_count": 17,
     "metadata": {},
     "output_type": "execute_result"
    }
   ],
   "source": [
    "dataFrame4 = pd.read_csv(r'T:\\Gist\\05101334-Data-Science\\Datasets\\Medals.csv')\n",
    "\n",
    "print(dataFrame4.columns)\n",
    "print(dataFrame4)\n",
    "\n",
    "X = dataFrame4[['Gold']]\n",
    "Y = dataFrame4[['Silver']]\n",
    "\n",
    "x_train, x_test, y_train, y_test = train_test_split(X, Y, test_size=0.2, train_size=0.8, random_state=600)\n",
    "\n",
    "model = LinearRegression()\n",
    "\n",
    "model.fit(x_train, y_train)\n",
    "\n",
    "model.predict([[39]])"
   ]
  }
 ],
 "metadata": {
  "kernelspec": {
   "display_name": "Python 3",
   "language": "python",
   "name": "python3"
  },
  "language_info": {
   "codemirror_mode": {
    "name": "ipython",
    "version": 3
   },
   "file_extension": ".py",
   "mimetype": "text/x-python",
   "name": "python",
   "nbconvert_exporter": "python",
   "pygments_lexer": "ipython3",
   "version": "3.12.4"
  }
 },
 "nbformat": 4,
 "nbformat_minor": 2
}
