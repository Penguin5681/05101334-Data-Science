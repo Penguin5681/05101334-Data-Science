{
 "cells": [
  {
   "cell_type": "code",
   "id": "initial_id",
   "metadata": {
    "collapsed": true,
    "ExecuteTime": {
     "end_time": "2024-09-20T07:25:05.551867Z",
     "start_time": "2024-09-20T07:24:53.560562Z"
    }
   },
   "source": [
    "import tensorflow as tf\n",
    "from tensorflow.keras import layers, models\n",
    "from tensorflow.keras.datasets import mnist\n",
    "import matplotlib.pyplot as plt\n",
    "import numpy as np\n",
    "from PIL import Image"
   ],
   "outputs": [],
   "execution_count": 1
  },
  {
   "metadata": {
    "jupyter": {
     "is_executing": true
    },
    "ExecuteTime": {
     "start_time": "2024-09-20T07:25:05.571899Z"
    }
   },
   "cell_type": "code",
   "source": [
    "(train_images, train_labels), (test_images, test_labels) = mnist.load_data()\n",
    "\n",
    "train_images = train_images / 255.0\n",
    "test_images = test_images / 255.0"
   ],
   "id": "e55e7153a88353a6",
   "outputs": [],
   "execution_count": null
  },
  {
   "metadata": {
    "ExecuteTime": {
     "end_time": "2024-09-19T03:55:23.340494Z",
     "start_time": "2024-09-19T03:55:23.314722Z"
    }
   },
   "cell_type": "code",
   "source": [
    "\n",
    "model = models.Sequential([\n",
    "    layers.Flatten(input_shape=(28, 28)),\n",
    "    layers.Dense(128, activation='relu'),\n",
    "    layers.Dense(10, activation='softmax')\n",
    "])"
   ],
   "id": "1877c343cf0bbd20",
   "outputs": [],
   "execution_count": 72
  },
  {
   "metadata": {
    "ExecuteTime": {
     "end_time": "2024-09-19T03:55:23.370046Z",
     "start_time": "2024-09-19T03:55:23.355628Z"
    }
   },
   "cell_type": "code",
   "source": [
    "model.compile(optimizer='adam',\n",
    "              loss='sparse_categorical_crossentropy',\n",
    "              metrics=['accuracy'])"
   ],
   "id": "9ec1716942a8b133",
   "outputs": [],
   "execution_count": 73
  },
  {
   "metadata": {
    "ExecuteTime": {
     "end_time": "2024-09-19T03:55:40.824092Z",
     "start_time": "2024-09-19T03:55:23.385230Z"
    }
   },
   "cell_type": "code",
   "source": [
    "model.fit(train_images, train_labels, epochs=5)\n",
    "\n",
    "test_loss, test_acc = model.evaluate(test_images, test_labels)\n",
    "print(f\"Test accuracy: {test_acc}\")"
   ],
   "id": "d8bd1f61c078b287",
   "outputs": [
    {
     "name": "stdout",
     "output_type": "stream",
     "text": [
      "Epoch 1/5\n",
      "\u001B[1m1875/1875\u001B[0m \u001B[32m━━━━━━━━━━━━━━━━━━━━\u001B[0m\u001B[37m\u001B[0m \u001B[1m4s\u001B[0m 2ms/step - accuracy: 0.8809 - loss: 0.4259\n",
      "Epoch 2/5\n",
      "\u001B[1m1875/1875\u001B[0m \u001B[32m━━━━━━━━━━━━━━━━━━━━\u001B[0m\u001B[37m\u001B[0m \u001B[1m3s\u001B[0m 2ms/step - accuracy: 0.9651 - loss: 0.1174\n",
      "Epoch 3/5\n",
      "\u001B[1m1875/1875\u001B[0m \u001B[32m━━━━━━━━━━━━━━━━━━━━\u001B[0m\u001B[37m\u001B[0m \u001B[1m3s\u001B[0m 2ms/step - accuracy: 0.9762 - loss: 0.0775\n",
      "Epoch 4/5\n",
      "\u001B[1m1875/1875\u001B[0m \u001B[32m━━━━━━━━━━━━━━━━━━━━\u001B[0m\u001B[37m\u001B[0m \u001B[1m3s\u001B[0m 2ms/step - accuracy: 0.9838 - loss: 0.0545\n",
      "Epoch 5/5\n",
      "\u001B[1m1875/1875\u001B[0m \u001B[32m━━━━━━━━━━━━━━━━━━━━\u001B[0m\u001B[37m\u001B[0m \u001B[1m3s\u001B[0m 2ms/step - accuracy: 0.9866 - loss: 0.0427\n",
      "\u001B[1m313/313\u001B[0m \u001B[32m━━━━━━━━━━━━━━━━━━━━\u001B[0m\u001B[37m\u001B[0m \u001B[1m1s\u001B[0m 1ms/step - accuracy: 0.9702 - loss: 0.1010\n",
      "Test accuracy: 0.9750999808311462\n"
     ]
    }
   ],
   "execution_count": 74
  },
  {
   "metadata": {
    "ExecuteTime": {
     "end_time": "2024-09-19T03:55:40.981985Z",
     "start_time": "2024-09-19T03:55:40.864529Z"
    }
   },
   "cell_type": "code",
   "source": [
    "random_index = np.random.randint(0, len(test_images))\n",
    "random_image = test_images[random_index]\n",
    "predicted_label = np.argmax(model.predict(np.expand_dims(random_image, axis=0)))"
   ],
   "id": "b0adac9b386e5fd6",
   "outputs": [
    {
     "name": "stdout",
     "output_type": "stream",
     "text": [
      "\u001B[1m1/1\u001B[0m \u001B[32m━━━━━━━━━━━━━━━━━━━━\u001B[0m\u001B[37m\u001B[0m \u001B[1m0s\u001B[0m 47ms/step\n"
     ]
    }
   ],
   "execution_count": 75
  },
  {
   "metadata": {
    "ExecuteTime": {
     "end_time": "2024-09-19T03:55:41.268664Z",
     "start_time": "2024-09-19T03:55:41.111596Z"
    }
   },
   "cell_type": "code",
   "source": [
    "plt.imshow(random_image, cmap=plt.cm.binary)\n",
    "plt.title(f\"Predicted label: {predicted_label}\")\n",
    "plt.show()\n"
   ],
   "id": "16c0ceacacdf2690",
   "outputs": [
    {
     "data": {
      "text/plain": [
       "<Figure size 640x480 with 1 Axes>"
      ],
      "image/png": "[encoded data removed]"
     },
     "metadata": {},
     "output_type": "display_data"
    }
   ],
   "execution_count": 76
  },
  {
   "metadata": {
    "ExecuteTime": {
     "end_time": "2024-09-19T03:55:41.327285Z",
     "start_time": "2024-09-19T03:55:41.320351Z"
    }
   },
   "cell_type": "code",
   "source": [
    "# img=Image.open(r\"C:\\imagesofdog.jpeg\")\n",
    "# img_path =r\"\"C:\\Users\\prana\\Downloads\\seven.png\"\"\n",
    "# display(Image(filename=img_path))\n",
    "# img = img.convert('L')\n",
    "# img=img.resize((224,224))\n",
    "# img\n",
    "# img_array=np.array(img)/255.0\n",
    "# img_array\n",
    "# img_array=np.expand_dims(img_array,axis=0)\n",
    "# #predictions =model.predict(img_array)\n",
    "# predictions\n",
    "# probabilities = tf.nn.softmax(predictions[0])\n",
    "# predicted_class = np.argmax(probabilities)\n",
    "# predicted_class"
   ],
   "id": "6c5e3e97e9a1bc",
   "outputs": [],
   "execution_count": 77
  }
 ],
 "metadata": {
  "kernelspec": {
   "display_name": "Python 3",
   "language": "python",
   "name": "python3"
  },
  "language_info": {
   "codemirror_mode": {
    "name": "ipython",
    "version": 2
   },
   "file_extension": ".py",
   "mimetype": "text/x-python",
   "name": "python",
   "nbconvert_exporter": "python",
   "pygments_lexer": "ipython2",
   "version": "2.7.6"
  }
 },
 "nbformat": 4,
 "nbformat_minor": 5
}
